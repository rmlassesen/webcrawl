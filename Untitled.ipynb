{
 "cells": [
  {
   "cell_type": "code",
   "execution_count": 2,
   "metadata": {},
   "outputs": [
    {
     "name": "stdout",
     "output_type": "stream",
     "text": [
      "Visited: http://www.pythex.org in depth 0\n",
      "Visited: http://rubular.com in depth 1\n",
      "Visited: http://www.ruby-doc.org/docs/ProgrammingRuby/html/language.html#UJ in depth 2\n",
      "Visited: http://lovitt.net in depth 2\n",
      "Visited: http://twitter.com/lovitt in depth 2\n",
      "Visited: http://groups.google.com/group/rubular in depth 2\n",
      "Visited: http://twitter.com/rubular in depth 2\n",
      "Visited: http://gabi.is in depth 1\n",
      "Visited: http://dirae.es in depth 2\n",
      "Visited: http://pythex.org in depth 2\n",
      "Visited: http://covarrubias.dirae.es in depth 2\n",
      "Visited: http://ipsofacto.org in depth 2\n",
      "Visited: http://es.xkcd.com in depth 2\n",
      "Visited: http://flask.pocoo.org/ in depth 1\n",
      "Visited: http://jinja.pocoo.org/docs/ in depth 2\n",
      "Visited: http://www.python.org/dev/peps/pep-0333/ in depth 2\n",
      "Visited: http://lucumr.pocoo.org/ in depth 2\n",
      "Visited: http://jquery.com/ in depth 1\n"
     ]
    }
   ],
   "source": [
    "from lib import *\n",
    "import networkx as nx\n",
    "\n",
    "spun = webcrawl.crawl('http://www.pythex.org', 2)"
   ]
  },
  {
   "cell_type": "code",
   "execution_count": 5,
   "metadata": {},
   "outputs": [],
   "source": []
  },
  {
   "cell_type": "code",
   "execution_count": 6,
   "metadata": {},
   "outputs": [
    {
     "name": "stderr",
     "output_type": "stream",
     "text": [
      "UsageError: Invalid GUI request 'ps', valid ones are:dict_keys(['inline', 'nbagg', 'notebook', 'ipympl', 'widget', None, 'qt4', 'qt', 'qt5', 'wx', 'tk', 'gtk', 'gtk3', 'osx', 'asyncio'])\n"
     ]
    }
   ],
   "source": [
    "import matplotlib.pyplot as plt"
   ]
  },
  {
   "cell_type": "code",
   "execution_count": null,
   "metadata": {},
   "outputs": [],
   "source": []
  }
 ],
 "metadata": {
  "kernelspec": {
   "display_name": "Python 3",
   "language": "python",
   "name": "python3"
  },
  "language_info": {
   "codemirror_mode": {
    "name": "ipython",
    "version": 3
   },
   "file_extension": ".py",
   "mimetype": "text/x-python",
   "name": "python",
   "nbconvert_exporter": "python",
   "pygments_lexer": "ipython3",
   "version": "3.7.0"
  }
 },
 "nbformat": 4,
 "nbformat_minor": 2
}
