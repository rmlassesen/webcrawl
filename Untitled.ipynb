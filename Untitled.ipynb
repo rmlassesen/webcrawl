{
 "cells": [
  {
   "cell_type": "code",
   "execution_count": 1,
   "metadata": {},
   "outputs": [],
   "source": [
    "import server"
   ]
  },
  {
   "cell_type": "code",
   "execution_count": null,
   "metadata": {},
   "outputs": [
    {
     "name": "stderr",
     "output_type": "stream",
     "text": [
      "127.0.0.1 - - [27/Oct/2018 22:13:51] \"GET / HTTP/1.1\" 200 -\n",
      "127.0.0.1 - - [27/Oct/2018 22:13:51] \"GET /favicon.ico HTTP/1.1\" 200 -\n",
      "127.0.0.1 - - [27/Oct/2018 22:14:15] \"GET / HTTP/1.1\" 200 -\n",
      "127.0.0.1 - - [27/Oct/2018 22:14:15] \"GET /favicon.ico HTTP/1.1\" 200 -\n",
      "127.0.0.1 - - [27/Oct/2018 22:14:17] \"GET / HTTP/1.1\" 200 -\n",
      "127.0.0.1 - - [27/Oct/2018 22:14:17] \"GET /favicon.ico HTTP/1.1\" 200 -\n"
     ]
    }
   ],
   "source": [
    "server.run()"
   ]
  },
  {
   "cell_type": "code",
   "execution_count": null,
   "metadata": {},
   "outputs": [],
   "source": [
    "html = \"HELLO HELLO\""
   ]
  },
  {
   "cell_type": "code",
   "execution_count": null,
   "metadata": {},
   "outputs": [],
   "source": []
  }
 ],
 "metadata": {
  "kernelspec": {
   "display_name": "Python 3",
   "language": "python",
   "name": "python3"
  },
  "language_info": {
   "codemirror_mode": {
    "name": "ipython",
    "version": 3
   },
   "file_extension": ".py",
   "mimetype": "text/x-python",
   "name": "python",
   "nbconvert_exporter": "python",
   "pygments_lexer": "ipython3",
   "version": "3.7.0"
  }
 },
 "nbformat": 4,
 "nbformat_minor": 2
}
